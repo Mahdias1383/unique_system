{
 "cells": [
  {
   "cell_type": "markdown",
   "metadata": {},
   "source": [
    "### ایمپورت کردن کتابخانه ها"
   ]
  },
  {
   "cell_type": "code",
   "execution_count": 25,
   "metadata": {},
   "outputs": [],
   "source": [
    "#!pip install beautifulsoup4\n",
    "#!pip3 install beautifulsoup4\n",
    "#!pip install --upgrade pip\n",
    "# !pip install requests\n",
    "#!pip3 install pandas\n",
    "#!pip install numpy\n",
    "#!pip3 install selenium"
   ]
  },
  {
   "cell_type": "code",
   "execution_count": 3,
   "metadata": {},
   "outputs": [],
   "source": [
    "import requests\n",
    "from bs4 import BeautifulSoup\n",
    "import numpy as np\n",
    "import pandas as pd\n",
    "from threading import Thread\n",
    "from urls import urls\n",
    "from DataSet.urls import urls\n",
    "from queue import Queue\n",
    "import time\n",
    "from selenium import webdriver"
   ]
  },
  {
   "cell_type": "code",
   "execution_count": 4,
   "metadata": {},
   "outputs": [],
   "source": [
    "menu_urls ={\n",
    "    \"digikala\": urls[\"digikala\"],\n",
    "    \"olfa\": urls[\"olfa\"],\n",
    "    \"moshtarak\": urls[\"moshtarak\"],\n",
    "    \"amazon\": urls[\"amazon\"]\n",
    "}\n",
    "#menu_urls"
   ]
  },
  {
   "cell_type": "code",
   "execution_count": 5,
   "metadata": {},
   "outputs": [
    {
     "name": "stdout",
     "output_type": "stream",
     "text": [
      "https://www.digikala.com/product/dkp-14664702/%D8%A7%D8%B3%D9%BE%D8%B1%D8%B3%D9%88-%D8%B3%D8%A7%D8%B2-%DA%AF%D9%88%D8%B3%D9%88%D9%86%DB%8C%DA%A9-%D9%85%D8%AF%D9%84-gem-873/\n",
      "https://www.digikala.com/product/dkp-1901244/%D8%A7%D8%B3%D9%BE%D8%B1%D8%B3%D9%88%D8%B3%D8%A7%D8%B2-%D9%86%D9%88%D8%A7-%D9%85%D8%AF%D9%84-nova-ncm-128exps/\n",
      "https://www.digikala.com/product/dkp-4836058/%D8%A7%D8%B3%D9%BE%D8%B1%D8%B3%D9%88-%D8%B3%D8%A7%D8%B2-%D9%86%D8%B3%D9%BE%D8%B1%D8%B3%D9%88-%D9%85%D8%AF%D9%84-pixie-en124s\n",
      "https://www.digikala.com/product/dkp-4889296/%D8%A7%D8%B3%D9%BE%D8%B1%D8%B3%D9%88-%D8%B3%D8%A7%D8%B2-%D8%AF%D9%88%D9%84%DA%86%D9%87-%DA%AF%D9%88%D8%B3%D8%AA%D9%88-%D9%85%D8%AF%D9%84-mini-me/\n",
      "https://www.digikala.com/product/dkp-2356208/%D8%A7%D8%B3%D9%BE%D8%B1%D8%B3%D9%88%D8%B3%D8%A7%D8%B2-%D8%B2%DB%8C%DA%AF%D9%85%D8%A7-%D9%85%D8%AF%D9%84-rl-222/\n",
      "https://www.digikala.com/product/dkp-9870703/%D8%A7%D8%B3%D9%BE%D8%B1%D8%B3%D9%88-%D8%B3%D8%A7%D8%B2-%D9%85%D8%A8%D8%A7%D8%B4%DB%8C-%D9%85%D8%AF%D9%84-me-ecm-2034/\n",
      "https://www.digikala.com/product/dkp-1929346/%D8%A7%D8%B3%D9%BE%D8%B1%D8%B3%D9%88-%D8%B3%D8%A7%D8%B2-%D9%85%D8%A8%D8%A7%D8%B4%DB%8C-%D9%85%D8%AF%D9%84-ecm2010/\n",
      "https://www.digikala.com/product/dkp-2181548/%D8%A7%D8%B3%D9%BE%D8%B1%D8%B3%D9%88%D8%B3%D8%A7%D8%B2-%D9%85%D8%A8%D8%A7%D8%B4%DB%8C-%D9%85%D8%AF%D9%84-ecm2013/\n",
      "https://www.digikala.com/product/dkp-14998371/%D8%A7%D8%B3%D9%BE%D8%B1%D8%B3%D9%88-%D8%B3%D8%A7%D8%B2-%D9%81%DB%8C%D9%84%DB%8C%D9%BE%D8%B3-%D9%85%D8%AF%D9%84-ep3246/\n",
      "https://www.digikala.com/product/dkp-4354974/%D8%A7%D8%B3%D9%BE%D8%B1%D8%B3%D9%88-%D8%B3%D8%A7%D8%B2-%D8%AF%D9%84%D9%88%D9%86%DA%AF%DB%8C-%D9%85%D8%AF%D9%84-ec685/\n"
     ]
    }
   ],
   "source": [
    "queue_digikala =Queue(100)\n",
    "for k,v in menu_urls[\"digikala\"].items():\n",
    "    print(v)\n",
    "    queue_digikala.put(v)"
   ]
  },
  {
   "cell_type": "markdown",
   "metadata": {},
   "source": [
    "تابع برای جمع آوری اطلاعات از سایت دیجیکالا  با تعریف صف - کار میکند"
   ]
  },
  {
   "cell_type": "code",
   "execution_count": 91,
   "metadata": {},
   "outputs": [
    {
     "name": "stdout",
     "output_type": "stream",
     "text": [
      "https://www.digikala.com/product/dkp-14664702/%D8%A7%D8%B3%D9%BE%D8%B1%D8%B3%D9%88-%D8%B3%D8%A7%D8%B2-%DA%AF%D9%88%D8%B3%D9%88%D9%86%DB%8C%DA%A9-%D9%85%D8%AF%D9%84-gem-873/\n",
      "https://www.digikala.com/product/dkp-1901244/%D8%A7%D8%B3%D9%BE%D8%B1%D8%B3%D9%88%D8%B3%D8%A7%D8%B2-%D9%86%D9%88%D8%A7-%D9%85%D8%AF%D9%84-nova-ncm-128exps/\n",
      "https://www.digikala.com/product/dkp-4836058/%D8%A7%D8%B3%D9%BE%D8%B1%D8%B3%D9%88-%D8%B3%D8%A7%D8%B2-%D9%86%D8%B3%D9%BE%D8%B1%D8%B3%D9%88-%D9%85%D8%AF%D9%84-pixie-en124s\n",
      "https://www.digikala.com/product/dkp-4889296/%D8%A7%D8%B3%D9%BE%D8%B1%D8%B3%D9%88-%D8%B3%D8%A7%D8%B2-%D8%AF%D9%88%D9%84%DA%86%D9%87-%DA%AF%D9%88%D8%B3%D8%AA%D9%88-%D9%85%D8%AF%D9%84-mini-me/\n",
      "https://www.digikala.com/product/dkp-2356208/%D8%A7%D8%B3%D9%BE%D8%B1%D8%B3%D9%88%D8%B3%D8%A7%D8%B2-%D8%B2%DB%8C%DA%AF%D9%85%D8%A7-%D9%85%D8%AF%D9%84-rl-222/\n",
      " اسپرسو ساز گوسونیک مدل GEM-873\n",
      "قیمت: ۶,۱۰۰,۰۰۰\n",
      " اسپرسوساز نوا مدل NOVA NCM-128EXPS\n",
      "قیمت: ۱۰,۵۹۹,۰۹۰\n",
      " اسپرسو ساز نسپرسو مدل  Pixie EN124.S\n",
      "قیمت: ۱۳,۹۸۰,۰۰۰\n",
      " اسپرسو ساز دولچه گوستو مدل Mini-Me\n",
      "قیمت: ۵,۹۸۳,۸۴۰\n",
      " اسپرسوساز زیگما مدل rl-222\n",
      "قیمت: ۳,۱۳۰,۰۰۰\n"
     ]
    }
   ],
   "source": [
    "queue_digikala =Queue(100)\n",
    "list_digikala=[]\n",
    "for k,v in menu_urls[\"digikala\"].items():\n",
    "    print(v)\n",
    "    queue_digikala.put(v)\n",
    "\n",
    "def scrape_digikala_product_details(queue_digikala,list_digikala):\n",
    "    while True:\n",
    "        if queue_digikala.empty():\n",
    "            break\n",
    "\n",
    "        a = queue_digikala.get()\n",
    "        driver = webdriver.Chrome()\n",
    "        driver.get(a)\n",
    "        time.sleep(5)\n",
    "        page_source = driver.page_source\n",
    "\n",
    "        # BeautifulSoup را برای تجزیه HTML استفاده کنید\n",
    "        soup = BeautifulSoup(page_source, 'html.parser')\n",
    "        # عنوان محصول را پیدا کنید\n",
    "        title_element = soup.find(\"h1\", class_=\"text-h4 text-neutral-900 mb-2 pointer-events-none\")\n",
    "        #print(title_element.prettify)\n",
    "\n",
    "        # عنوان محصول را استخراج کنید\n",
    "        if title_element:\n",
    "            title = title_element.text.strip()\n",
    "            print(f\" {title}\")\n",
    "        else:\n",
    "            print(f\"عنوان محصول در صفحه {a} یافت نشد.\")\n",
    "\n",
    "        ##قیمت را پیدا کنید\n",
    "        price_element = soup.find(\"span\", class_=\"text-h4 ml-1 text-neutral-800\")\n",
    "        #print(price_element.prettify)   \n",
    "        if price_element:\n",
    "            price = price_element.text.strip()\n",
    "            print(f\"قیمت: {price}\")\n",
    "        else:\n",
    "            print(f\"قیمت در صفحه {a} یافت نشد.\")\n",
    "\n",
    "        list_digikala.append({\"name_product\":title,\"price_product\":price})\n",
    "        driver.quit()\n",
    "    \n",
    "# مثال استفاده\n",
    "url1 =\"https://www.digikala.com/product/dkp-14664702/%D8%A7%D8%B3%D9%BE%D8%B1%D8%B3%D9%88-%D8%B3%D8%A7%D8%B2-%DA%AF%D9%88%D8%B3%D9%88%D9%86%DB%8C%DA%A9-%D9%85%D8%AF%D9%84-gem-873/\"\n",
    "scrape_digikala_product_details(queue_digikala,list_digikala)\n"
   ]
  },
  {
   "cell_type": "code",
   "execution_count": null,
   "metadata": {},
   "outputs": [],
   "source": []
  },
  {
   "cell_type": "markdown",
   "metadata": {},
   "source": [
    "### نوشتن تابع برای جمع آوری اطلاعات از سایت آمازون"
   ]
  },
  {
   "cell_type": "code",
   "execution_count": null,
   "metadata": {},
   "outputs": [],
   "source": [
    "def scrape_amazon(keyword, result_list):\n",
    "    url = f\"https://www.amazon.com/s?k={keyword}\"\n",
    "    headers = {\n",
    "        \"User-Agent\": \"Mozilla/5.0 (Windows NT 10.0; Win64; x64) AppleWebKit/537.36 (KHTML, like Gecko) Chrome/91.0.4472.124 Safari/537.36\"\n",
    "    }\n",
    "    response = requests.get(url, headers=headers)\n",
    "    soup = BeautifulSoup(response.text, 'html.parser')\n",
    "\n",
    "    for item in soup.select('.s-main-slot .s-result-item'):\n",
    "        name = item.select_one('h2 a span')\n",
    "        price = item.select_one('.a-price-whole')\n",
    "        link = item.select_one('h2 a')\n",
    "\n",
    "        if name and price and link:\n",
    "            result_list.append({\n",
    "                'نام محصول': name.get_text(),\n",
    "                'قیمت در آمازون': float(price.get_text().replace(',', '')),\n",
    "                'لینک به آمازون': \"https://www.amazon.com\" + link['href']\n",
    "            })"
   ]
  },
  {
   "cell_type": "markdown",
   "metadata": {},
   "source": [
    "### نوشتن تابع برای جمع آوری اطلاعات از سایت دیجی کالا"
   ]
  },
  {
   "cell_type": "code",
   "execution_count": null,
   "metadata": {},
   "outputs": [],
   "source": [
    "def scrape_digikala(keyword, result_list):\n",
    "    url = f\"https://www.digikala.com/search/?q={keyword}\"\n",
    "    headers = {\n",
    "        \"User-Agent\": \"Mozilla/5.0 (Windows NT 10.0; Win64; x64) AppleWebKit/537.36 (KHTML, like Gecko) Chrome/91.0.4472.124 Safari/537.36\"\n",
    "    }\n",
    "    response = requests.get(url, headers=headers)\n",
    "    soup = BeautifulSoup(response.text, 'html.parser')\n",
    "\n",
    "    for item in soup.select('.c-product-box'):\n",
    "        name = item.select_one('.c-product-box__title')\n",
    "        price = item.select_one('.c-price__value')\n",
    "        link = item.select_one('.c-product-box__title a')\n",
    "\n",
    "        if name and price and link:\n",
    "            result_list.append({\n",
    "                'نام محصول': name.get_text().strip(),\n",
    "                'قیمت در دیجی‌کالا': float(price.get_text().replace(',', '')),\n",
    "                'لینک به دیجی‌کالا': \"https://www.digikala.com\" + link['href']\n",
    "            })"
   ]
  },
  {
   "cell_type": "markdown",
   "metadata": {},
   "source": [
    " ### نوشتن تابع برای جمع آوری اطلاعات از سایت اولفا"
   ]
  },
  {
   "cell_type": "code",
   "execution_count": null,
   "metadata": {},
   "outputs": [],
   "source": [
    "def scrape_olfa(keyword, result_list):\n",
    "    url = f\"https://www.digikala.com/search/?q={keyword}\"\n",
    "    headers = {\n",
    "        \"User-Agent\": \"Mozilla/5.0 (Windows NT 10.0; Win64; x64) AppleWebKit/537.36 (KHTML, like Gecko) Chrome/91.0.4472.124 Safari/537.36\"\n",
    "    }\n",
    "    response = requests.get(url, headers=headers)\n",
    "    soup = BeautifulSoup(response.text, 'html.parser')\n",
    "\n",
    "    for item in soup.select('.c-product-box'):\n",
    "        name = item.select_one('.c-product-box__title')\n",
    "        price = item.select_one('.c-price__value')\n",
    "        link = item.select_one('.c-product-box__title a')\n",
    "\n",
    "        if name and price and link:\n",
    "            result_list.append({\n",
    "                'نام محصول': name.get_text().strip(),\n",
    "                'قیمت در اولفا': float(price.get_text().replace(',', '')),\n",
    "                'لینک به اولفا': \"https://www.olfacoffee.com\" + link['href']\n",
    "            })"
   ]
  },
  {
   "cell_type": "markdown",
   "metadata": {},
   "source": [
    "### تعریف لیست ها برای ذخیره نتایج"
   ]
  },
  {
   "cell_type": "code",
   "execution_count": null,
   "metadata": {},
   "outputs": [],
   "source": [
    "amazon_results = []\n",
    "digikala_results = []\n",
    "olfa_results = []"
   ]
  },
  {
   "cell_type": "markdown",
   "metadata": {},
   "source": [
    "### تعریف کلمات کلیدی برای جست و جو"
   ]
  },
  {
   "cell_type": "code",
   "execution_count": null,
   "metadata": {},
   "outputs": [],
   "source": [
    "keyword_amazon = \"espresso machine\"\n",
    "keyword_digikala = \"اسپرسو ساز\"\n",
    "keyword_olfa = \"\""
   ]
  },
  {
   "cell_type": "markdown",
   "metadata": {},
   "source": [
    "### ایجاد ترد ها"
   ]
  },
  {
   "cell_type": "code",
   "execution_count": null,
   "metadata": {},
   "outputs": [],
   "source": [
    "thread_amazon = Thread(target=scrape_amazon, args=(keyword_amazon, amazon_results))\n",
    "thread_digikala = Thread(target=scrape_digikala, args=(keyword_digikala, digikala_results))\n",
    "thread_olfa = Thread(target=scrape_olfa, args=(keyword_olfa, olfa_results))"
   ]
  },
  {
   "cell_type": "markdown",
   "metadata": {},
   "source": [
    "### شروع به کار ترد ها"
   ]
  },
  {
   "cell_type": "code",
   "execution_count": null,
   "metadata": {},
   "outputs": [],
   "source": [
    "thread_amazon.start()\n",
    "thread_digikala.start()\n",
    "thread_olfa.start()"
   ]
  },
  {
   "cell_type": "markdown",
   "metadata": {},
   "source": [
    "### منتظر ماندن برای اتمام ترد ها"
   ]
  },
  {
   "cell_type": "code",
   "execution_count": null,
   "metadata": {},
   "outputs": [],
   "source": [
    "thread_amazon.join()\n",
    "thread_digikala.join()\n",
    "thread_olfa.join()"
   ]
  },
  {
   "cell_type": "markdown",
   "metadata": {},
   "source": [
    "### تبدیل نتایج به دیتا فریم"
   ]
  },
  {
   "cell_type": "code",
   "execution_count": null,
   "metadata": {},
   "outputs": [],
   "source": [
    "df_amazon = pd.DataFrame(amazon_results)\n",
    "df_digikala = pd.DataFrame(digikala_results)\n",
    "df_olfa = pd.DataFrame(olfa_results)"
   ]
  },
  {
   "cell_type": "markdown",
   "metadata": {},
   "source": [
    "### تغییر واحد پولها به دلار  \n",
    "بر فرض دلار 60,000 تومان"
   ]
  },
  {
   "cell_type": "code",
   "execution_count": null,
   "metadata": {},
   "outputs": [],
   "source": [
    "exchange_rate = 60000\n",
    "df_digikala['قیمت در دیجی کالا (دلار)'] = df_digikala['قیمت در دیجی‌کالا'] / exchange_rate\n",
    "df_digikala['قیمت در اولفا (دلار)'] = df_olfa['قیمت در اولفا'] / exchange_rate\n",
    "df_digikala['قیمت در آمازون (دلار)'] = df_amazon['قیمت در آمازون'] #the price is already by dollors ."
   ]
  },
  {
   "cell_type": "markdown",
   "metadata": {},
   "source": [
    "### محاسبه ی کمترین و بیشترین قیمت محصولات"
   ]
  },
  {
   "cell_type": "code",
   "execution_count": null,
   "metadata": {},
   "outputs": [],
   "source": [
    "min_prices = pd.concat([df_amazon[['نام محصول', 'قیمت در آمازون']], df_digikala[['نام محصول', 'قیمت در دیجی‌کالا (دلار)']].rename(columns={'قیمت در دیجی‌کالا (دلار)': 'قیمت'}), df_olfa[['نام محصول', 'قیمت در اولف (دلار)']].rename(columns={'قیمت در اولفا (دلار)': 'قیمت'})]).groupby('نام محصول').min().reset_index()\n",
    "max_prices = pd.concat([df_amazon[['نام محصول', 'قیمت در آمازون']], df_digikala[['نام محصول', 'قیمت در دیجی‌کالا (دلار)']].rename(columns={'قیمت در دیجی‌کالا (دلار)': 'قیمت'}), df_olfa[['نام محصول', 'قیمت در اولف (دلار)']].rename(columns={'قیمت در اولفا (دلار)': 'قیمت'})]).groupby('نام محصول').max().reset_index()\n"
   ]
  },
  {
   "cell_type": "markdown",
   "metadata": {},
   "source": [
    "### نمونه ی هزینه ها  \n",
    "بر حسب دلار"
   ]
  },
  {
   "cell_type": "markdown",
   "metadata": {},
   "source": [
    "#### هزینه خرید محصول"
   ]
  },
  {
   "cell_type": "code",
   "execution_count": null,
   "metadata": {},
   "outputs": [],
   "source": [
    "cost_price = 180"
   ]
  },
  {
   "cell_type": "markdown",
   "metadata": {},
   "source": [
    "#### هزینه حمل و نقل"
   ]
  },
  {
   "cell_type": "code",
   "execution_count": null,
   "metadata": {},
   "outputs": [],
   "source": [
    "shipping_cost = 20"
   ]
  },
  {
   "cell_type": "markdown",
   "metadata": {},
   "source": [
    "#### هزینه بازاریابی"
   ]
  },
  {
   "cell_type": "code",
   "execution_count": null,
   "metadata": {},
   "outputs": [],
   "source": [
    "marketing_cost = 10"
   ]
  },
  {
   "cell_type": "markdown",
   "metadata": {},
   "source": [
    "#### درصد سود موردنظر"
   ]
  },
  {
   "cell_type": "code",
   "execution_count": null,
   "metadata": {},
   "outputs": [],
   "source": [
    "desired_profit_percentage = 0.20"
   ]
  },
  {
   "cell_type": "markdown",
   "metadata": {},
   "source": [
    "### محاسبه قیمت پایه"
   ]
  },
  {
   "cell_type": "code",
   "execution_count": null,
   "metadata": {},
   "outputs": [],
   "source": [
    "base_price = cost_price + shipping_cost + marketing_cost"
   ]
  },
  {
   "cell_type": "markdown",
   "metadata": {},
   "source": [
    "### محاسبه قیمت فروش"
   ]
  },
  {
   "cell_type": "code",
   "execution_count": null,
   "metadata": {},
   "outputs": [],
   "source": [
    "desired_profit = base_price * desired_profit_percentage\n",
    "selling_price = base_price + desired_profit"
   ]
  },
  {
   "cell_type": "markdown",
   "metadata": {},
   "source": [
    "### تعیین بازه قیمتی رقابتی"
   ]
  },
  {
   "cell_type": "code",
   "execution_count": null,
   "metadata": {},
   "outputs": [],
   "source": [
    "min_competitor_price = min_prices['قیمت'].min()\n",
    "max_competitor_price = max_prices['قیمت'].max()"
   ]
  },
  {
   "cell_type": "markdown",
   "metadata": {},
   "source": [
    "### محصولات مشابه "
   ]
  },
  {
   "cell_type": "code",
   "execution_count": null,
   "metadata": {},
   "outputs": [],
   "source": [
    "# if there is subscriptions:\n",
    "if not min_prices.empty:\n",
    "    competitive_price_range = (base_price, min_competitor_price)\n",
    "# if there isn't any subscriptions:\n",
    "else:\n",
    "    competitive_price_range = (base_price, base_price + desired_profit)"
   ]
  },
  {
   "cell_type": "markdown",
   "metadata": {},
   "source": [
    "### نمایش نتایج"
   ]
  },
  {
   "cell_type": "code",
   "execution_count": null,
   "metadata": {},
   "outputs": [],
   "source": [
    "print(f\"قیمت پایه: {base_price}\")"
   ]
  },
  {
   "cell_type": "code",
   "execution_count": null,
   "metadata": {},
   "outputs": [],
   "source": [
    "print(f\"قیمت فروش پیشنهادی: {selling_price}\")"
   ]
  },
  {
   "cell_type": "code",
   "execution_count": null,
   "metadata": {},
   "outputs": [],
   "source": [
    "print(f\"بازه قیمتی رقابتی: از {competitive_price_range[0]} تا {competitive_price_range[1]}\")"
   ]
  },
  {
   "cell_type": "markdown",
   "metadata": {},
   "source": [
    "### نمایش قیمت رقبا برای هر محصول "
   ]
  },
  {
   "cell_type": "markdown",
   "metadata": {},
   "source": [
    "#### نمایش کمترین قیمت رقبا :"
   ]
  },
  {
   "cell_type": "code",
   "execution_count": null,
   "metadata": {},
   "outputs": [],
   "source": [
    "print(\"\\nکمترین قیمت رقبا برای هر محصول:\")\n",
    "print(min_prices)"
   ]
  },
  {
   "cell_type": "markdown",
   "metadata": {},
   "source": [
    "#### نمایش بیشترین قیمت رقبا :"
   ]
  },
  {
   "cell_type": "code",
   "execution_count": null,
   "metadata": {},
   "outputs": [],
   "source": [
    "print(\"\\nبیشترین قیمت رقبا برای هر محصول:\")\n",
    "print(max_prices)"
   ]
  },
  {
   "cell_type": "markdown",
   "metadata": {},
   "source": [
    "### ذخیره اطلاعات به صورت فایل csv"
   ]
  },
  {
   "cell_type": "code",
   "execution_count": null,
   "metadata": {},
   "outputs": [],
   "source": [
    "df_amazon.to_csv('amazon_products.csv', index=False)\n",
    "df_digikala.to_csv('digikala_products.csv', index=False)\n",
    "df_olfa.to_csv('olfa_products.csv', index=False)"
   ]
  }
 ],
 "metadata": {
  "kernelspec": {
   "display_name": "Python 3.12.3 64-bit",
   "language": "python",
   "name": "python3"
  },
  "language_info": {
   "codemirror_mode": {
    "name": "ipython",
    "version": 3
   },
   "file_extension": ".py",
   "mimetype": "text/x-python",
   "name": "python",
   "nbconvert_exporter": "python",
   "pygments_lexer": "ipython3",
   "version": "3.12.4"
  },
  "vscode": {
   "interpreter": {
    "hash": "456f3db00579c431765dda291622f876bc7d9a6949fafe95a1b5ae1ce23e7a72"
   }
  }
 },
 "nbformat": 4,
 "nbformat_minor": 2
}
