{
 "cells": [
  {
   "cell_type": "markdown",
   "metadata": {},
   "source": [
    "### ایمپورت کردن کتابخانه ها"
   ]
  },
  {
   "cell_type": "code",
   "execution_count": 25,
   "metadata": {},
   "outputs": [],
   "source": [
    "#!pip install beautifulsoup4\n",
    "#!pip3 install beautifulsoup4\n",
    "#!pip install --upgrade pip\n",
    "# !pip install requests\n",
    "#!pip3 install pandas\n",
    "#!pip install numpy\n",
    "#!pip3 install selenium"
   ]
  },
  {
   "cell_type": "code",
   "execution_count": 4,
   "metadata": {},
   "outputs": [],
   "source": [
    "import requests\n",
    "from bs4 import BeautifulSoup\n",
    "import numpy as np\n",
    "import pandas as pd\n",
    "from threading import Thread\n",
    "from urls import urls\n",
    "from queue import Queue\n",
    "import time\n",
    "from selenium import webdriver"
   ]
  },
  {
   "cell_type": "code",
   "execution_count": 41,
   "metadata": {},
   "outputs": [],
   "source": [
    "menu_urls ={\n",
    "    \"digikala\": urls[\"digikala\"],\n",
    "    \"olfa\": urls[\"olfa\"],\n",
    "    \"moshtarak\": urls[\"moshtarak\"],\n",
    "    \"amazon\": urls[\"amazon\"]\n",
    "}\n",
    "#menu_urls"
   ]
  },
  {
   "cell_type": "code",
   "execution_count": 56,
   "metadata": {},
   "outputs": [],
   "source": [
    "queue_digikala =Queue(100)\n",
    "for k,v in menu_urls[\"digikala\"].items():\n",
    "    #print(v)\n",
    "    queue_digikala.put(v)"
   ]
  },
  {
   "cell_type": "code",
   "execution_count": 7,
   "metadata": {},
   "outputs": [
    {
     "name": "stdout",
     "output_type": "stream",
     "text": [
      " اسپرسو ساز گوسونیک مدل GEM-873\n"
     ]
    },
    {
     "ename": "AttributeError",
     "evalue": "'NoneType' object has no attribute 'prettify'",
     "output_type": "error",
     "traceback": [
      "\u001b[1;31m---------------------------------------------------------------------------\u001b[0m",
      "\u001b[1;31mAttributeError\u001b[0m                            Traceback (most recent call last)",
      "Cell \u001b[1;32mIn[7], line 71\u001b[0m\n\u001b[0;32m     68\u001b[0m \u001b[38;5;66;03m# مثال استفاده\u001b[39;00m\n\u001b[0;32m     69\u001b[0m url1 \u001b[38;5;241m=\u001b[39m\u001b[38;5;124m\"\u001b[39m\u001b[38;5;124mhttps://www.digikala.com/product/dkp-14664702/\u001b[39m\u001b[38;5;124m%\u001b[39m\u001b[38;5;124mD8\u001b[39m\u001b[38;5;124m%\u001b[39m\u001b[38;5;124mA7\u001b[39m\u001b[38;5;124m%\u001b[39m\u001b[38;5;124mD8\u001b[39m\u001b[38;5;124m%\u001b[39m\u001b[38;5;124mB3\u001b[39m\u001b[38;5;124m%\u001b[39m\u001b[38;5;124mD9\u001b[39m\u001b[38;5;124m%\u001b[39m\u001b[38;5;124mBE\u001b[39m\u001b[38;5;124m%\u001b[39m\u001b[38;5;124mD8\u001b[39m\u001b[38;5;124m%\u001b[39m\u001b[38;5;124mB1\u001b[39m\u001b[38;5;124m%\u001b[39m\u001b[38;5;124mD8\u001b[39m\u001b[38;5;124m%\u001b[39m\u001b[38;5;124mB3\u001b[39m\u001b[38;5;124m%\u001b[39m\u001b[38;5;124mD9\u001b[39m\u001b[38;5;124m%\u001b[39m\u001b[38;5;124m88-\u001b[39m\u001b[38;5;124m%\u001b[39m\u001b[38;5;124mD8\u001b[39m\u001b[38;5;124m%\u001b[39m\u001b[38;5;124mB3\u001b[39m\u001b[38;5;124m%\u001b[39m\u001b[38;5;124mD8\u001b[39m\u001b[38;5;124m%\u001b[39m\u001b[38;5;124mA7\u001b[39m\u001b[38;5;124m%\u001b[39m\u001b[38;5;124mD8\u001b[39m\u001b[38;5;124m%\u001b[39m\u001b[38;5;124mB2-\u001b[39m\u001b[38;5;124m%\u001b[39m\u001b[38;5;124mDA\u001b[39m\u001b[38;5;124m%\u001b[39m\u001b[38;5;124mAF\u001b[39m\u001b[38;5;124m%\u001b[39m\u001b[38;5;124mD9\u001b[39m\u001b[38;5;132;01m%88%\u001b[39;00m\u001b[38;5;124mD8\u001b[39m\u001b[38;5;124m%\u001b[39m\u001b[38;5;124mB3\u001b[39m\u001b[38;5;124m%\u001b[39m\u001b[38;5;124mD9\u001b[39m\u001b[38;5;132;01m%88%\u001b[39;00m\u001b[38;5;124mD9\u001b[39m\u001b[38;5;132;01m%86%\u001b[39;00m\u001b[38;5;124mDB\u001b[39m\u001b[38;5;124m%\u001b[39m\u001b[38;5;124m8C\u001b[39m\u001b[38;5;124m%\u001b[39m\u001b[38;5;124mDA\u001b[39m\u001b[38;5;124m%\u001b[39m\u001b[38;5;124mA9-\u001b[39m\u001b[38;5;124m%\u001b[39m\u001b[38;5;124mD9\u001b[39m\u001b[38;5;132;01m%85%\u001b[39;00m\u001b[38;5;124mD8\u001b[39m\u001b[38;5;124m%\u001b[39m\u001b[38;5;124mAF\u001b[39m\u001b[38;5;124m%\u001b[39m\u001b[38;5;124mD9\u001b[39m\u001b[38;5;124m%\u001b[39m\u001b[38;5;124m84-gem-873/\u001b[39m\u001b[38;5;124m\"\u001b[39m\n\u001b[1;32m---> 71\u001b[0m \u001b[43mscrape_digikala_product_details\u001b[49m\u001b[43m(\u001b[49m\u001b[43murl1\u001b[49m\u001b[43m)\u001b[49m\n",
      "Cell \u001b[1;32mIn[7], line 34\u001b[0m, in \u001b[0;36mscrape_digikala_product_details\u001b[1;34m(url)\u001b[0m\n\u001b[0;32m     32\u001b[0m \u001b[38;5;66;03m#قیمت را پیدا کنید\u001b[39;00m\n\u001b[0;32m     33\u001b[0m price_element \u001b[38;5;241m=\u001b[39m soup\u001b[38;5;241m.\u001b[39mfind(\u001b[38;5;124m\"\u001b[39m\u001b[38;5;124mdive\u001b[39m\u001b[38;5;124m\"\u001b[39m, class_\u001b[38;5;241m=\u001b[39m\u001b[38;5;124m\"\u001b[39m\u001b[38;5;124mtflex items-center justify-end w-full gap-1\u001b[39m\u001b[38;5;124m\"\u001b[39m)\n\u001b[1;32m---> 34\u001b[0m \u001b[43mprice_element\u001b[49m\u001b[38;5;241;43m.\u001b[39;49m\u001b[43mprettify\u001b[49m\n\u001b[0;32m     35\u001b[0m \u001b[38;5;28mprint\u001b[39m(price_element\u001b[38;5;241m.\u001b[39mprettify)\n\u001b[0;32m     36\u001b[0m \u001b[38;5;66;03m#if price_element:\u001b[39;00m\n\u001b[0;32m     37\u001b[0m \u001b[38;5;66;03m#    price = price_element.text.strip()\u001b[39;00m\n\u001b[0;32m     38\u001b[0m \u001b[38;5;66;03m#    print(f\"قیمت: {price}\")\u001b[39;00m\n\u001b[1;32m   (...)\u001b[0m\n\u001b[0;32m     64\u001b[0m \n\u001b[0;32m     65\u001b[0m \u001b[38;5;66;03m# درایور Chrome را ببندید\u001b[39;00m\n",
      "\u001b[1;31mAttributeError\u001b[0m: 'NoneType' object has no attribute 'prettify'"
     ]
    }
   ],
   "source": [
    "from selenium import webdriver\n",
    "from bs4 import BeautifulSoup\n",
    "import time\n",
    "\n",
    "def scrape_digikala_product_details(url):\n",
    "    # درایور Chrome را راه اندازی کنید\n",
    "    driver = webdriver.Chrome()\n",
    "\n",
    "    # به URL مورد نظر بروید\n",
    "    driver.get(url)\n",
    "\n",
    "    # منتظر بارگیری کامل صفحه بمانید\n",
    "    time.sleep(5)  # 5 ثانیه صبر کنید\n",
    "\n",
    "    # محتوای HTML را به عنوان رشته دریافت کنید\n",
    "    page_source = driver.page_source\n",
    "\n",
    "    # BeautifulSoup را برای تجزیه HTML استفاده کنید\n",
    "    soup = BeautifulSoup(page_source, 'html.parser')\n",
    "\n",
    "    # عنوان محصول را پیدا کنید\n",
    "    title_element = soup.find(\"h1\", class_=\"text-h4 text-neutral-900 mb-2 pointer-events-none\")\n",
    "    \n",
    "\n",
    "    # عنوان محصول را استخراج کنید\n",
    "    if title_element:\n",
    "        title = title_element.text.strip()\n",
    "        print(f\" {title}\")\n",
    "    else:\n",
    "        print(f\"عنوان محصول در صفحه {url} یافت نشد.\")\n",
    "\n",
    "    #قیمت را پیدا کنید\n",
    "    #price_element = soup.find(\"dive\", class_=\"tflex items-center justify-end w-full gap-1\")\n",
    "    #if price_element:\n",
    "    #    price = price_element.text.strip()\n",
    "    #    print(f\"قیمت: {price}\")\n",
    "    #else:\n",
    "    #    print(f\"قیمت در صفحه {url} یافت نشد.\")\n",
    "#\n",
    "    ## توضیحات را پیدا کنید\n",
    "    #description_element = soup.find(\"div\", class_=\"pdp-description__content\")\n",
    "    #if description_element:\n",
    "    #    description = description_element.text.strip()\n",
    "    #    print(f\"توضیحات: {description}\")\n",
    "    #else:\n",
    "    #    print(f\"توضیحات در صفحه {url} یافت نشد.\")\n",
    "#\n",
    "    ## مشخصات را پیدا کنید\n",
    "    #specs_element = soup.find(\"div\", class_=\"pdp-specs__list\")\n",
    "    #if specs_element:\n",
    "    #    specs = {}\n",
    "    #    for spec_item in specs_element.find_all(\"li\"):\n",
    "    #        key_element = spec_item.find(\"span\", class_=\"pdp-specs__key\")\n",
    "    #        value_element = spec_item.find(\"span\", class_=\"pdp-specs__value\")\n",
    "    #        if key_element and value_element:\n",
    "    #            key = key_element.text.strip()\n",
    "    #            value = value_element.text.strip()\n",
    "    #            specs[key] = value\n",
    "    #    print(f\"مشخصات: {specs}\")\n",
    "    #else:\n",
    "    #    print(f\"مشخصات در صفحه {url} یافت نشد.\")\n",
    "\n",
    "    # درایور Chrome را ببندید\n",
    "    driver.quit()\n",
    "\n",
    "# مثال استفاده\n",
    "url1 =\"https://www.digikala.com/product/dkp-14664702/%D8%A7%D8%B3%D9%BE%D8%B1%D8%B3%D9%88-%D8%B3%D8%A7%D8%B2-%DA%AF%D9%88%D8%B3%D9%88%D9%86%DB%8C%DA%A9-%D9%85%D8%AF%D9%84-gem-873/\"\n",
    "\n",
    "scrape_digikala_product_details(url1)\n"
   ]
  },
  {
   "cell_type": "markdown",
   "metadata": {},
   "source": [
    "### نوشتن تابع برای جمع آوری اطلاعات از سایت آمازون"
   ]
  },
  {
   "cell_type": "code",
   "execution_count": null,
   "metadata": {},
   "outputs": [],
   "source": [
    "def scrape_amazon(keyword, result_list):\n",
    "    url = f\"https://www.amazon.com/s?k={keyword}\"\n",
    "    headers = {\n",
    "        \"User-Agent\": \"Mozilla/5.0 (Windows NT 10.0; Win64; x64) AppleWebKit/537.36 (KHTML, like Gecko) Chrome/91.0.4472.124 Safari/537.36\"\n",
    "    }\n",
    "    response = requests.get(url, headers=headers)\n",
    "    soup = BeautifulSoup(response.text, 'html.parser')\n",
    "\n",
    "    for item in soup.select('.s-main-slot .s-result-item'):\n",
    "        name = item.select_one('h2 a span')\n",
    "        price = item.select_one('.a-price-whole')\n",
    "        link = item.select_one('h2 a')\n",
    "\n",
    "        if name and price and link:\n",
    "            result_list.append({\n",
    "                'نام محصول': name.get_text(),\n",
    "                'قیمت در آمازون': float(price.get_text().replace(',', '')),\n",
    "                'لینک به آمازون': \"https://www.amazon.com\" + link['href']\n",
    "            })"
   ]
  },
  {
   "cell_type": "markdown",
   "metadata": {},
   "source": [
    "### نوشتن تابع برای جمع آوری اطلاعات از سایت دیجی کالا"
   ]
  },
  {
   "cell_type": "code",
   "execution_count": null,
   "metadata": {},
   "outputs": [],
   "source": [
    "def scrape_digikala(keyword, result_list):\n",
    "    url = f\"https://www.digikala.com/search/?q={keyword}\"\n",
    "    headers = {\n",
    "        \"User-Agent\": \"Mozilla/5.0 (Windows NT 10.0; Win64; x64) AppleWebKit/537.36 (KHTML, like Gecko) Chrome/91.0.4472.124 Safari/537.36\"\n",
    "    }\n",
    "    response = requests.get(url, headers=headers)\n",
    "    soup = BeautifulSoup(response.text, 'html.parser')\n",
    "\n",
    "    for item in soup.select('.c-product-box'):\n",
    "        name = item.select_one('.c-product-box__title')\n",
    "        price = item.select_one('.c-price__value')\n",
    "        link = item.select_one('.c-product-box__title a')\n",
    "\n",
    "        if name and price and link:\n",
    "            result_list.append({\n",
    "                'نام محصول': name.get_text().strip(),\n",
    "                'قیمت در دیجی‌کالا': float(price.get_text().replace(',', '')),\n",
    "                'لینک به دیجی‌کالا': \"https://www.digikala.com\" + link['href']\n",
    "            })"
   ]
  },
  {
   "cell_type": "markdown",
   "metadata": {},
   "source": [
    " ### نوشتن تابع برای جمع آوری اطلاعات از سایت اولفا"
   ]
  },
  {
   "cell_type": "code",
   "execution_count": null,
   "metadata": {},
   "outputs": [],
   "source": [
    "def scrape_olfa(keyword, result_list):\n",
    "    url = f\"https://www.digikala.com/search/?q={keyword}\"\n",
    "    headers = {\n",
    "        \"User-Agent\": \"Mozilla/5.0 (Windows NT 10.0; Win64; x64) AppleWebKit/537.36 (KHTML, like Gecko) Chrome/91.0.4472.124 Safari/537.36\"\n",
    "    }\n",
    "    response = requests.get(url, headers=headers)\n",
    "    soup = BeautifulSoup(response.text, 'html.parser')\n",
    "\n",
    "    for item in soup.select('.c-product-box'):\n",
    "        name = item.select_one('.c-product-box__title')\n",
    "        price = item.select_one('.c-price__value')\n",
    "        link = item.select_one('.c-product-box__title a')\n",
    "\n",
    "        if name and price and link:\n",
    "            result_list.append({\n",
    "                'نام محصول': name.get_text().strip(),\n",
    "                'قیمت در اولفا': float(price.get_text().replace(',', '')),\n",
    "                'لینک به اولفا': \"https://www.olfacoffee.com\" + link['href']\n",
    "            })"
   ]
  },
  {
   "cell_type": "markdown",
   "metadata": {},
   "source": [
    "### تعریف لیست ها برای ذخیره نتایج"
   ]
  },
  {
   "cell_type": "code",
   "execution_count": null,
   "metadata": {},
   "outputs": [],
   "source": [
    "amazon_results = []\n",
    "digikala_results = []\n",
    "olfa_results = []"
   ]
  },
  {
   "cell_type": "markdown",
   "metadata": {},
   "source": [
    "### تعریف کلمات کلیدی برای جست و جو"
   ]
  },
  {
   "cell_type": "code",
   "execution_count": null,
   "metadata": {},
   "outputs": [],
   "source": [
    "keyword_amazon = \"espresso machine\"\n",
    "keyword_digikala = \"اسپرسو ساز\"\n",
    "keyword_olfa = \"\""
   ]
  },
  {
   "cell_type": "markdown",
   "metadata": {},
   "source": [
    "### ایجاد ترد ها"
   ]
  },
  {
   "cell_type": "code",
   "execution_count": null,
   "metadata": {},
   "outputs": [],
   "source": [
    "thread_amazon = Thread(target=scrape_amazon, args=(keyword_amazon, amazon_results))\n",
    "thread_digikala = Thread(target=scrape_digikala, args=(keyword_digikala, digikala_results))\n",
    "thread_olfa = Thread(target=scrape_olfa, args=(keyword_olfa, olfa_results))"
   ]
  },
  {
   "cell_type": "markdown",
   "metadata": {},
   "source": [
    "### شروع به کار ترد ها"
   ]
  },
  {
   "cell_type": "code",
   "execution_count": null,
   "metadata": {},
   "outputs": [],
   "source": [
    "thread_amazon.start()\n",
    "thread_digikala.start()\n",
    "thread_olfa.start()"
   ]
  },
  {
   "cell_type": "markdown",
   "metadata": {},
   "source": [
    "### منتظر ماندن برای اتمام ترد ها"
   ]
  },
  {
   "cell_type": "code",
   "execution_count": null,
   "metadata": {},
   "outputs": [],
   "source": [
    "thread_amazon.join()\n",
    "thread_digikala.join()\n",
    "thread_olfa.join()"
   ]
  },
  {
   "cell_type": "markdown",
   "metadata": {},
   "source": [
    "### تبدیل نتایج به دیتا فریم"
   ]
  },
  {
   "cell_type": "code",
   "execution_count": null,
   "metadata": {},
   "outputs": [],
   "source": [
    "df_amazon = pd.DataFrame(amazon_results)\n",
    "df_digikala = pd.DataFrame(digikala_results)\n",
    "df_olfa = pd.DataFrame(olfa_results)"
   ]
  },
  {
   "cell_type": "markdown",
   "metadata": {},
   "source": [
    "### تغییر واحد پولها به دلار  \n",
    "بر فرض دلار 60,000 تومان"
   ]
  },
  {
   "cell_type": "code",
   "execution_count": null,
   "metadata": {},
   "outputs": [],
   "source": [
    "exchange_rate = 60000\n",
    "df_digikala['قیمت در دیجی کالا (دلار)'] = df_digikala['قیمت در دیجی‌کالا'] / exchange_rate\n",
    "df_digikala['قیمت در اولفا (دلار)'] = df_olfa['قیمت در اولفا'] / exchange_rate\n",
    "df_digikala['قیمت در آمازون (دلار)'] = df_amazon['قیمت در آمازون'] #the price is already by dollors ."
   ]
  },
  {
   "cell_type": "markdown",
   "metadata": {},
   "source": [
    "### محاسبه ی کمترین و بیشترین قیمت محصولات"
   ]
  },
  {
   "cell_type": "code",
   "execution_count": null,
   "metadata": {},
   "outputs": [],
   "source": [
    "min_prices = pd.concat([df_amazon[['نام محصول', 'قیمت در آمازون']], df_digikala[['نام محصول', 'قیمت در دیجی‌کالا (دلار)']].rename(columns={'قیمت در دیجی‌کالا (دلار)': 'قیمت'}), df_olfa[['نام محصول', 'قیمت در اولف (دلار)']].rename(columns={'قیمت در اولفا (دلار)': 'قیمت'})]).groupby('نام محصول').min().reset_index()\n",
    "max_prices = pd.concat([df_amazon[['نام محصول', 'قیمت در آمازون']], df_digikala[['نام محصول', 'قیمت در دیجی‌کالا (دلار)']].rename(columns={'قیمت در دیجی‌کالا (دلار)': 'قیمت'}), df_olfa[['نام محصول', 'قیمت در اولف (دلار)']].rename(columns={'قیمت در اولفا (دلار)': 'قیمت'})]).groupby('نام محصول').max().reset_index()\n"
   ]
  },
  {
   "cell_type": "markdown",
   "metadata": {},
   "source": [
    "### نمونه ی هزینه ها  \n",
    "بر حسب دلار"
   ]
  },
  {
   "cell_type": "markdown",
   "metadata": {},
   "source": [
    "#### هزینه خرید محصول"
   ]
  },
  {
   "cell_type": "code",
   "execution_count": null,
   "metadata": {},
   "outputs": [],
   "source": [
    "cost_price = 180"
   ]
  },
  {
   "cell_type": "markdown",
   "metadata": {},
   "source": [
    "#### هزینه حمل و نقل"
   ]
  },
  {
   "cell_type": "code",
   "execution_count": null,
   "metadata": {},
   "outputs": [],
   "source": [
    "shipping_cost = 20"
   ]
  },
  {
   "cell_type": "markdown",
   "metadata": {},
   "source": [
    "#### هزینه بازاریابی"
   ]
  },
  {
   "cell_type": "code",
   "execution_count": null,
   "metadata": {},
   "outputs": [],
   "source": [
    "marketing_cost = 10"
   ]
  },
  {
   "cell_type": "markdown",
   "metadata": {},
   "source": [
    "#### درصد سود موردنظر"
   ]
  },
  {
   "cell_type": "code",
   "execution_count": null,
   "metadata": {},
   "outputs": [],
   "source": [
    "desired_profit_percentage = 0.20"
   ]
  },
  {
   "cell_type": "markdown",
   "metadata": {},
   "source": [
    "### محاسبه قیمت پایه"
   ]
  },
  {
   "cell_type": "code",
   "execution_count": null,
   "metadata": {},
   "outputs": [],
   "source": [
    "base_price = cost_price + shipping_cost + marketing_cost"
   ]
  },
  {
   "cell_type": "markdown",
   "metadata": {},
   "source": [
    "### محاسبه قیمت فروش"
   ]
  },
  {
   "cell_type": "code",
   "execution_count": null,
   "metadata": {},
   "outputs": [],
   "source": [
    "desired_profit = base_price * desired_profit_percentage\n",
    "selling_price = base_price + desired_profit"
   ]
  },
  {
   "cell_type": "markdown",
   "metadata": {},
   "source": [
    "### تعیین بازه قیمتی رقابتی"
   ]
  },
  {
   "cell_type": "code",
   "execution_count": null,
   "metadata": {},
   "outputs": [],
   "source": [
    "min_competitor_price = min_prices['قیمت'].min()\n",
    "max_competitor_price = max_prices['قیمت'].max()"
   ]
  },
  {
   "cell_type": "markdown",
   "metadata": {},
   "source": [
    "### محصولات مشابه "
   ]
  },
  {
   "cell_type": "code",
   "execution_count": null,
   "metadata": {},
   "outputs": [],
   "source": [
    "# if there is subscriptions:\n",
    "if not min_prices.empty:\n",
    "    competitive_price_range = (base_price, min_competitor_price)\n",
    "# if there isn't any subscriptions:\n",
    "else:\n",
    "    competitive_price_range = (base_price, base_price + desired_profit)"
   ]
  },
  {
   "cell_type": "markdown",
   "metadata": {},
   "source": [
    "### نمایش نتایج"
   ]
  },
  {
   "cell_type": "code",
   "execution_count": null,
   "metadata": {},
   "outputs": [],
   "source": [
    "print(f\"قیمت پایه: {base_price}\")"
   ]
  },
  {
   "cell_type": "code",
   "execution_count": null,
   "metadata": {},
   "outputs": [],
   "source": [
    "print(f\"قیمت فروش پیشنهادی: {selling_price}\")"
   ]
  },
  {
   "cell_type": "code",
   "execution_count": null,
   "metadata": {},
   "outputs": [],
   "source": [
    "print(f\"بازه قیمتی رقابتی: از {competitive_price_range[0]} تا {competitive_price_range[1]}\")"
   ]
  },
  {
   "cell_type": "markdown",
   "metadata": {},
   "source": [
    "### نمایش قیمت رقبا برای هر محصول "
   ]
  },
  {
   "cell_type": "markdown",
   "metadata": {},
   "source": [
    "#### نمایش کمترین قیمت رقبا :"
   ]
  },
  {
   "cell_type": "code",
   "execution_count": null,
   "metadata": {},
   "outputs": [],
   "source": [
    "print(\"\\nکمترین قیمت رقبا برای هر محصول:\")\n",
    "print(min_prices)"
   ]
  },
  {
   "cell_type": "markdown",
   "metadata": {},
   "source": [
    "#### نمایش بیشترین قیمت رقبا :"
   ]
  },
  {
   "cell_type": "code",
   "execution_count": null,
   "metadata": {},
   "outputs": [],
   "source": [
    "print(\"\\nبیشترین قیمت رقبا برای هر محصول:\")\n",
    "print(max_prices)"
   ]
  },
  {
   "cell_type": "markdown",
   "metadata": {},
   "source": [
    "### ذخیره اطلاعات به صورت فایل csv"
   ]
  },
  {
   "cell_type": "code",
   "execution_count": null,
   "metadata": {},
   "outputs": [],
   "source": [
    "df_amazon.to_csv('amazon_products.csv', index=False)\n",
    "df_digikala.to_csv('digikala_products.csv', index=False)\n",
    "df_olfa.to_csv('olfa_products.csv', index=False)"
   ]
  }
 ],
 "metadata": {
  "kernelspec": {
   "display_name": "Python 3.12.3 64-bit",
   "language": "python",
   "name": "python3"
  },
  "language_info": {
   "codemirror_mode": {
    "name": "ipython",
    "version": 3
   },
   "file_extension": ".py",
   "mimetype": "text/x-python",
   "name": "python",
   "nbconvert_exporter": "python",
   "pygments_lexer": "ipython3",
   "version": "3.12.4"
  },
  "vscode": {
   "interpreter": {
    "hash": "456f3db00579c431765dda291622f876bc7d9a6949fafe95a1b5ae1ce23e7a72"
   }
  }
 },
 "nbformat": 4,
 "nbformat_minor": 2
}
